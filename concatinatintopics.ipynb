{
  "metadata": {
    "kernelspec": {
      "name": "python",
      "display_name": "Python (Pyodide)",
      "language": "python"
    },
    "language_info": {
      "codemirror_mode": {
        "name": "python",
        "version": 3
      },
      "file_extension": ".py",
      "mimetype": "text/x-python",
      "name": "python",
      "nbconvert_exporter": "python",
      "pygments_lexer": "ipython3",
      "version": "3.8"
    }
  },
  "nbformat_minor": 5,
  "nbformat": 4,
  "cells": [
    {
      "id": "c614902c-c99a-4f7f-80d6-58d1208c312e",
      "cell_type": "code",
      "source": "import numpy as np\narr=np.array([1,2,3,4,5,6,7,8,9,10,11,12])\nnewarr=arr.reshape(2,3,2)\nprint(newarr)",
      "metadata": {
        "trusted": true
      },
      "outputs": [
        {
          "name": "stdout",
          "output_type": "stream",
          "text": "[[[ 1  2]\n  [ 3  4]\n  [ 5  6]]\n\n [[ 7  8]\n  [ 9 10]\n  [11 12]]]\n"
        }
      ],
      "execution_count": 13
    },
    {
      "id": "a6fef821-6bfa-4b1d-a4c1-0eefe0de85a3",
      "cell_type": "code",
      "source": "import numpy as np\narr1=np.array([[1,2,3],[3,4,6]])\narr2=np.array([[5,6,7],[6,8,9]])\narr=np.concatenate((arr1,arr2),axis=0)\nprint(arr)",
      "metadata": {
        "trusted": true
      },
      "outputs": [
        {
          "name": "stdout",
          "output_type": "stream",
          "text": "[[1 2 3]\n [3 4 6]\n [5 6 7]\n [6 8 9]]\n"
        }
      ],
      "execution_count": 23
    },
    {
      "id": "ee7492af-da95-45e4-8f15-31cdbb2536c1",
      "cell_type": "code",
      "source": "import numpy as np\narr1=np.array([[1,2,3],[3,4,6]])\narr2=np.array([[5,6,7],[6,8,9]])\narr=np.concatenate((arr1,arr2),axis=1)\nprint(arr)",
      "metadata": {
        "trusted": true
      },
      "outputs": [
        {
          "name": "stdout",
          "output_type": "stream",
          "text": "[[1 2 3 5 6 7]\n [3 4 6 6 8 9]]\n"
        }
      ],
      "execution_count": 24
    },
    {
      "id": "7f2ee9d3-bd6e-4bcb-baa7-75b0ed37b527",
      "cell_type": "code",
      "source": "import numpy as np\narr1=np.array([1,2,3])\narr2=np.array([5,6,7])\narr=np.vstack((arr1,arr2))\nprint(arr)\n",
      "metadata": {
        "trusted": true
      },
      "outputs": [
        {
          "name": "stdout",
          "output_type": "stream",
          "text": "[[1 2 3]\n [5 6 7]]\n"
        }
      ],
      "execution_count": 25
    },
    {
      "id": "a566e50f-a95f-4bca-9f4a-ee0ddb4b0b4b",
      "cell_type": "code",
      "source": "import numpy as np\narr1=np.array([1,2,3])\narr2=np.array([5,6,7])\narr=np.hstack((arr1,arr2))\nprint(arr)\n",
      "metadata": {
        "trusted": true
      },
      "outputs": [
        {
          "name": "stdout",
          "output_type": "stream",
          "text": "[1 2 3 5 6 7]\n"
        }
      ],
      "execution_count": 26
    },
    {
      "id": "372bb653-ac68-4ef9-a74f-1ce366a6bfa2",
      "cell_type": "code",
      "source": "import numpy as np\narr1=np.array([1,2,3])\narr2=np.array([5,6,7])\narr=np.stack((arr1,arr2),axis=1)\nprint(arr)\n",
      "metadata": {
        "trusted": true
      },
      "outputs": [
        {
          "name": "stdout",
          "output_type": "stream",
          "text": "[[1 5]\n [2 6]\n [3 7]]\n"
        }
      ],
      "execution_count": 27
    },
    {
      "id": "c8e19319-3f3f-45e7-9252-46c04f971785",
      "cell_type": "code",
      "source": "import numpy as np\narr1=np.array([1,2,3])\narr2=np.array([5,6,7])\narr=np.dstack((arr1,arr2))\nprint(arr)\n",
      "metadata": {
        "trusted": true
      },
      "outputs": [
        {
          "name": "stdout",
          "output_type": "stream",
          "text": "[[[1 5]\n  [2 6]\n  [3 7]]]\n"
        }
      ],
      "execution_count": 29
    },
    {
      "id": "5a0b4a70-757e-4e89-80d9-028781b913be",
      "cell_type": "code",
      "source": "import numpy as np\narr1=np.array([1,2,3,4,5,6])\nnewarr1=np.array_split(arr1,3)\nprint(newarr1)\n",
      "metadata": {
        "trusted": true
      },
      "outputs": [
        {
          "name": "stdout",
          "output_type": "stream",
          "text": "[array([1, 2]), array([3, 4]), array([5, 6])]\n"
        }
      ],
      "execution_count": 33
    },
    {
      "id": "aba8accf-3623-4c54-8d9c-a431f8cc5d93",
      "cell_type": "code",
      "source": "import numpy as np\narr1=np.array([1,2,3,4,5,6])\nnewarr1=np.array_split(arr1,4)\nprint(newarr1)\n",
      "metadata": {
        "trusted": true
      },
      "outputs": [
        {
          "name": "stdout",
          "output_type": "stream",
          "text": "[array([1, 2]), array([3, 4]), array([5]), array([6])]\n"
        }
      ],
      "execution_count": 34
    },
    {
      "id": "1099bb39-b244-409d-ac25-023193ec2bff",
      "cell_type": "code",
      "source": "import numpy as np\narr1=np.array([[1,2],[3,4],[5,6],[9,7],[7,0],[56,90]])\nnewarr1=np.array_split(arr1,3)\nprint(newarr1)\n",
      "metadata": {
        "trusted": true
      },
      "outputs": [
        {
          "name": "stdout",
          "output_type": "stream",
          "text": "[array([[1, 2],\n       [3, 4]]), array([[5, 6],\n       [9, 7]]), array([[ 7,  0],\n       [56, 90]])]\n"
        }
      ],
      "execution_count": 35
    },
    {
      "id": "60fab73a-84db-4fe0-9720-26d11a811366",
      "cell_type": "code",
      "source": "import numpy as np\narr1=np.array([[1,2],[3,4],[5,6],[9,7],[7,0],[56,90]])\nnewarr1=np.array_split(arr1,4)\nprint(newarr1)\n",
      "metadata": {
        "trusted": true
      },
      "outputs": [
        {
          "name": "stdout",
          "output_type": "stream",
          "text": "[array([[1, 2],\n       [3, 4]]), array([[5, 6],\n       [9, 7]]), array([[7, 0]]), array([[56, 90]])]\n"
        }
      ],
      "execution_count": 36
    },
    {
      "id": "b22fcdae-339f-455c-9b82-80c8aa0ebee7",
      "cell_type": "code",
      "source": "import numpy as np\narray1=np.array([1,34,67])\narray2=np.array([90,56,45])\nresult=np.dot(array1,array2)\nprint(result)",
      "metadata": {
        "trusted": true
      },
      "outputs": [
        {
          "name": "stdout",
          "output_type": "stream",
          "text": "5009\n"
        }
      ],
      "execution_count": 38
    },
    {
      "id": "98092db3-da54-4bd3-8674-e656119ba3b3",
      "cell_type": "code",
      "source": "import numpy as np\narray1=np.array([1,34,67])\narray2=np.array([90,56,45])\nresult=np.dot(array1,array2)\nresult",
      "metadata": {
        "trusted": true
      },
      "outputs": [
        {
          "execution_count": 39,
          "output_type": "execute_result",
          "data": {
            "text/plain": "np.int32(5009)"
          },
          "metadata": {}
        }
      ],
      "execution_count": 39
    },
    {
      "id": "93774ce8-28a8-4828-a585-34808285ff3f",
      "cell_type": "code",
      "source": "import numpy as np\narray1=np.array([[1,34,67],[78,90,34]])\narray2=np.array([[90,56,45],[90,67,56]])\nresult=np.inner(array1,array2)\nresult",
      "metadata": {
        "trusted": true
      },
      "outputs": [
        {
          "execution_count": 40,
          "output_type": "execute_result",
          "data": {
            "text/plain": "array([[ 5009,  6120],\n       [13590, 14954]])"
          },
          "metadata": {}
        }
      ],
      "execution_count": 40
    },
    {
      "id": "7a1bbf56-f486-4caa-b3ef-87a8d997248a",
      "cell_type": "code",
      "source": "import numpy as np\narray1=np.array([[1,34,67],[78,90,34]])\narray2=np.array([[90,56,45],[90,67,56]])\nresult=np.outer(array1,array2)\nresult",
      "metadata": {
        "trusted": true
      },
      "outputs": [
        {
          "execution_count": 41,
          "output_type": "execute_result",
          "data": {
            "text/plain": "array([[  90,   56,   45,   90,   67,   56],\n       [3060, 1904, 1530, 3060, 2278, 1904],\n       [6030, 3752, 3015, 6030, 4489, 3752],\n       [7020, 4368, 3510, 7020, 5226, 4368],\n       [8100, 5040, 4050, 8100, 6030, 5040],\n       [3060, 1904, 1530, 3060, 2278, 1904]])"
          },
          "metadata": {}
        }
      ],
      "execution_count": 41
    },
    {
      "id": "070aeacb-cebe-404a-b9a5-2f6b7b1709e1",
      "cell_type": "code",
      "source": "import numpy as np\narray1=np.array([1,34,7])\narray2=np.array([0,5,4])\nresult=np.outer(array1,array2)\nresult",
      "metadata": {
        "trusted": true
      },
      "outputs": [
        {
          "execution_count": 45,
          "output_type": "execute_result",
          "data": {
            "text/plain": "array([[  0,   5,   4],\n       [  0, 170, 136],\n       [  0,  35,  28]])"
          },
          "metadata": {}
        }
      ],
      "execution_count": 45
    },
    {
      "id": "a52e24fd-0ddd-4499-be75-05c92a01e5e6",
      "cell_type": "code",
      "source": "import numpy as np\narray1=np.array([1,34,7])\narray2=np.array([0,5,4])\nresult=np.inner(array1,array2)\nresult",
      "metadata": {
        "trusted": true
      },
      "outputs": [
        {
          "execution_count": 46,
          "output_type": "execute_result",
          "data": {
            "text/plain": "np.int32(198)"
          },
          "metadata": {}
        }
      ],
      "execution_count": 46
    },
    {
      "id": "24f94a7c-03cb-450d-8bf6-0045cf3a4ea7",
      "cell_type": "code",
      "source": "import numpy as np\narray=np.array([[1,34],[5,4]])\nresult=np.linalg.det(array)\nprint(result)",
      "metadata": {
        "trusted": true
      },
      "outputs": [
        {
          "name": "stdout",
          "output_type": "stream",
          "text": "-166.00000000000006\n"
        }
      ],
      "execution_count": 52
    },
    {
      "id": "2726e7bd-9fbb-4797-b986-544600121f88",
      "cell_type": "code",
      "source": "import numpy as np\narray=np.array([[1,34],[5,4]])\nresult=np.linalg.inv(array)\nprint(result)",
      "metadata": {
        "trusted": true
      },
      "outputs": [
        {
          "name": "stdout",
          "output_type": "stream",
          "text": "[[-0.02409639  0.20481928]\n [ 0.03012048 -0.0060241 ]]\n"
        }
      ],
      "execution_count": 53
    },
    {
      "id": "9d732ed2-7d57-428c-a7af-382b533dbbba",
      "cell_type": "code",
      "source": "",
      "metadata": {
        "trusted": true
      },
      "outputs": [],
      "execution_count": null
    }
  ]
}