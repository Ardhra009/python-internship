{
  "metadata": {
    "kernelspec": {
      "name": "python",
      "display_name": "Python (Pyodide)",
      "language": "python"
    },
    "language_info": {
      "codemirror_mode": {
        "name": "python",
        "version": 3
      },
      "file_extension": ".py",
      "mimetype": "text/x-python",
      "name": "python",
      "nbconvert_exporter": "python",
      "pygments_lexer": "ipython3",
      "version": "3.8"
    }
  },
  "nbformat_minor": 5,
  "nbformat": 4,
  "cells": [
    {
      "id": "eb721c12-8262-43f9-b7f8-36477d481efb",
      "cell_type": "code",
      "source": "pip install pandas\n",
      "metadata": {
        "trusted": true
      },
      "outputs": [],
      "execution_count": null
    },
    {
      "id": "30146e1d-33df-4450-b153-ce31542e06da",
      "cell_type": "code",
      "source": "import pandas as pd\na=[1,7,5]\nmyvar=pd.Series(a)\nmyvar",
      "metadata": {
        "trusted": true
      },
      "outputs": [
        {
          "execution_count": 4,
          "output_type": "execute_result",
          "data": {
            "text/plain": "0    1\n1    7\n2    5\ndtype: int64"
          },
          "metadata": {}
        }
      ],
      "execution_count": 4
    },
    {
      "id": "789723e9-887b-40a1-8f93-f61d01e1a7fa",
      "cell_type": "code",
      "source": "import pandas as pd\na=[1,7,5]\nmyvar=pd.Series(a,index=[\"x\",\"y\",\"z\"])\nmyvar",
      "metadata": {
        "trusted": true
      },
      "outputs": [
        {
          "execution_count": 5,
          "output_type": "execute_result",
          "data": {
            "text/plain": "x    1\ny    7\nz    5\ndtype: int64"
          },
          "metadata": {}
        }
      ],
      "execution_count": 5
    },
    {
      "id": "ec04a1f5-69e5-45e1-b7f2-a19f99c9f59e",
      "cell_type": "code",
      "source": "import pandas as pd\na=[1,7,5]\nmyvar=pd.Series(a,index=[\"2\",\"4\",\"5\"])\nmyvar",
      "metadata": {
        "trusted": true
      },
      "outputs": [
        {
          "execution_count": 6,
          "output_type": "execute_result",
          "data": {
            "text/plain": "2    1\n4    7\n5    5\ndtype: int64"
          },
          "metadata": {}
        }
      ],
      "execution_count": 6
    },
    {
      "id": "280858f2-a549-4ea4-a5da-3479b1962cb1",
      "cell_type": "code",
      "source": "import pandas as pd\na=[1,7,5]\nmyvar=pd.Series(a,index=[\"2\",\"4\",\"5\"])\nmyvar",
      "metadata": {
        "trusted": true
      },
      "outputs": [
        {
          "execution_count": 6,
          "output_type": "execute_result",
          "data": {
            "text/plain": "2    1\n4    7\n5    5\ndtype: int64"
          },
          "metadata": {}
        }
      ],
      "execution_count": 6
    },
    {
      "id": "2c71dc72-681a-4665-86d2-6c82e54006be",
      "cell_type": "code",
      "source": "",
      "metadata": {
        "trusted": true
      },
      "outputs": [],
      "execution_count": null
    },
    {
      "id": "603b6cde-f9aa-44fb-9ae3-eee7094f66f2",
      "cell_type": "code",
      "source": "import pandas as pd\ndata={\"name\":[\"miya\",\"liya\",\"dta\"],\n      \"age\":[4,7,9]}\ndf=pd.DataFrame(data)\ndf",
      "metadata": {
        "trusted": true
      },
      "outputs": [
        {
          "execution_count": 7,
          "output_type": "execute_result",
          "data": {
            "text/plain": "   name  age\n0  miya    4\n1  liya    7\n2   dta    9",
            "text/html": "<div>\n<style scoped>\n    .dataframe tbody tr th:only-of-type {\n        vertical-align: middle;\n    }\n\n    .dataframe tbody tr th {\n        vertical-align: top;\n    }\n\n    .dataframe thead th {\n        text-align: right;\n    }\n</style>\n<table border=\"1\" class=\"dataframe\">\n  <thead>\n    <tr style=\"text-align: right;\">\n      <th></th>\n      <th>name</th>\n      <th>age</th>\n    </tr>\n  </thead>\n  <tbody>\n    <tr>\n      <th>0</th>\n      <td>miya</td>\n      <td>4</td>\n    </tr>\n    <tr>\n      <th>1</th>\n      <td>liya</td>\n      <td>7</td>\n    </tr>\n    <tr>\n      <th>2</th>\n      <td>dta</td>\n      <td>9</td>\n    </tr>\n  </tbody>\n</table>\n</div>"
          },
          "metadata": {}
        }
      ],
      "execution_count": 7
    },
    {
      "id": "9bfaeb00-6ae7-4c3e-841b-da8c5b542a54",
      "cell_type": "code",
      "source": "import pandas as pd\ndata ={\"sub\":[\"math\",\"eng\",\"mal\"],\n       \"mark\":[23,32,45]}\ndf=pd.DataFrame(data)\ndf\n   \n       ",
      "metadata": {
        "trusted": true
      },
      "outputs": [
        {
          "execution_count": 9,
          "output_type": "execute_result",
          "data": {
            "text/plain": "    sub  mark\n0  math    23\n1   eng    32\n2   mal    45",
            "text/html": "<div>\n<style scoped>\n    .dataframe tbody tr th:only-of-type {\n        vertical-align: middle;\n    }\n\n    .dataframe tbody tr th {\n        vertical-align: top;\n    }\n\n    .dataframe thead th {\n        text-align: right;\n    }\n</style>\n<table border=\"1\" class=\"dataframe\">\n  <thead>\n    <tr style=\"text-align: right;\">\n      <th></th>\n      <th>sub</th>\n      <th>mark</th>\n    </tr>\n  </thead>\n  <tbody>\n    <tr>\n      <th>0</th>\n      <td>math</td>\n      <td>23</td>\n    </tr>\n    <tr>\n      <th>1</th>\n      <td>eng</td>\n      <td>32</td>\n    </tr>\n    <tr>\n      <th>2</th>\n      <td>mal</td>\n      <td>45</td>\n    </tr>\n  </tbody>\n</table>\n</div>"
          },
          "metadata": {}
        }
      ],
      "execution_count": 9
    },
    {
      "id": "de513120-7f82-4091-b00a-f5d633b04942",
      "cell_type": "code",
      "source": "import pandas as pd\ndata ={\"sub\":[\"math\",\"eng\",\"mal\"],\n       \"mark\":[23,32,45]}\ndf=pd.DataFrame(data)\nprint(df.loc[1])",
      "metadata": {
        "trusted": true
      },
      "outputs": [
        {
          "name": "stdout",
          "output_type": "stream",
          "text": "sub     eng\nmark     32\nName: 1, dtype: object\n"
        }
      ],
      "execution_count": 10
    },
    {
      "id": "20ac4d1f-c88d-4606-87fb-97b4ddfff18b",
      "cell_type": "code",
      "source": "df.info",
      "metadata": {
        "trusted": true
      },
      "outputs": [
        {
          "execution_count": 11,
          "output_type": "execute_result",
          "data": {
            "text/plain": "<bound method DataFrame.info of     sub  mark\n0  math    23\n1   eng    32\n2   mal    45>"
          },
          "metadata": {}
        }
      ],
      "execution_count": 11
    },
    {
      "id": "a09455f8-d0d6-44a9-b53a-72fd7c365a1b",
      "cell_type": "code",
      "source": "",
      "metadata": {
        "trusted": true
      },
      "outputs": [],
      "execution_count": null
    },
    {
      "id": "f654b805-f84a-4197-aff6-f0e3faf3ce36",
      "cell_type": "code",
      "source": "",
      "metadata": {
        "trusted": true
      },
      "outputs": [],
      "execution_count": null
    },
    {
      "id": "9e9d9cdc-e70f-4080-98aa-edd4b6e5488d",
      "cell_type": "code",
      "source": "",
      "metadata": {
        "trusted": true
      },
      "outputs": [],
      "execution_count": null
    }
  ]
}