{
  "metadata": {
    "kernelspec": {
      "name": "python",
      "display_name": "Python (Pyodide)",
      "language": "python"
    },
    "language_info": {
      "codemirror_mode": {
        "name": "python",
        "version": 3
      },
      "file_extension": ".py",
      "mimetype": "text/x-python",
      "name": "python",
      "nbconvert_exporter": "python",
      "pygments_lexer": "ipython3",
      "version": "3.8"
    }
  },
  "nbformat_minor": 5,
  "nbformat": 4,
  "cells": [
    {
      "id": "58759b2a-cecb-4cd0-b213-6215b49105b4",
      "cell_type": "code",
      "source": "!pip install pandas ",
      "metadata": {
        "trusted": true
      },
      "outputs": [],
      "execution_count": null
    },
    {
      "id": "4f8c43d3-2aa2-493a-b356-61abacc2aa6d",
      "cell_type": "code",
      "source": "import pandas as pd \ndf=pd.read_csv('student_clustering.csv')\ndf",
      "metadata": {
        "trusted": true
      },
      "outputs": [
        {
          "execution_count": 23,
          "output_type": "execute_result",
          "data": {
            "text/plain": "     cgpa   iq\n0    5.13   88\n1    5.90  113\n2    8.36   93\n3    8.27   97\n4    5.45  110\n..    ...  ...\n195  4.68   89\n196  8.57  118\n197  5.85  112\n198  6.23  108\n199  8.82  117\n\n[200 rows x 2 columns]",
            "text/html": "<div>\n<style scoped>\n    .dataframe tbody tr th:only-of-type {\n        vertical-align: middle;\n    }\n\n    .dataframe tbody tr th {\n        vertical-align: top;\n    }\n\n    .dataframe thead th {\n        text-align: right;\n    }\n</style>\n<table border=\"1\" class=\"dataframe\">\n  <thead>\n    <tr style=\"text-align: right;\">\n      <th></th>\n      <th>cgpa</th>\n      <th>iq</th>\n    </tr>\n  </thead>\n  <tbody>\n    <tr>\n      <th>0</th>\n      <td>5.13</td>\n      <td>88</td>\n    </tr>\n    <tr>\n      <th>1</th>\n      <td>5.90</td>\n      <td>113</td>\n    </tr>\n    <tr>\n      <th>2</th>\n      <td>8.36</td>\n      <td>93</td>\n    </tr>\n    <tr>\n      <th>3</th>\n      <td>8.27</td>\n      <td>97</td>\n    </tr>\n    <tr>\n      <th>4</th>\n      <td>5.45</td>\n      <td>110</td>\n    </tr>\n    <tr>\n      <th>...</th>\n      <td>...</td>\n      <td>...</td>\n    </tr>\n    <tr>\n      <th>195</th>\n      <td>4.68</td>\n      <td>89</td>\n    </tr>\n    <tr>\n      <th>196</th>\n      <td>8.57</td>\n      <td>118</td>\n    </tr>\n    <tr>\n      <th>197</th>\n      <td>5.85</td>\n      <td>112</td>\n    </tr>\n    <tr>\n      <th>198</th>\n      <td>6.23</td>\n      <td>108</td>\n    </tr>\n    <tr>\n      <th>199</th>\n      <td>8.82</td>\n      <td>117</td>\n    </tr>\n  </tbody>\n</table>\n<p>200 rows × 2 columns</p>\n</div>"
          },
          "metadata": {}
        }
      ],
      "execution_count": 23
    },
    {
      "id": "332fbad0-f753-44cc-970c-5c0935c96e31",
      "cell_type": "code",
      "source": "",
      "metadata": {
        "trusted": true
      },
      "outputs": [],
      "execution_count": null
    },
    {
      "id": "fc74a920-e7a5-41db-a69b-8cf98c8ac236",
      "cell_type": "code",
      "source": "",
      "metadata": {
        "trusted": true
      },
      "outputs": [],
      "execution_count": null
    },
    {
      "id": "e095ef07-76c6-40ea-9ed9-65b20e0676e0",
      "cell_type": "code",
      "source": "",
      "metadata": {
        "trusted": true
      },
      "outputs": [],
      "execution_count": null
    },
    {
      "id": "35573d75-ed15-4b8c-927a-c4cd97927251",
      "cell_type": "code",
      "source": "",
      "metadata": {
        "trusted": true
      },
      "outputs": [],
      "execution_count": null
    }
  ]
}